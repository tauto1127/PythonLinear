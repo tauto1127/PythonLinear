{
 "cells": [
  {
   "cell_type": "raw",
   "metadata": {
    "pycharm": {
     "name": ""
    }
   },
   "source": [
    "逆行列をもちいて連立方程式をとく"
   ]
  },
  {
   "cell_type": "markdown",
   "metadata": {
    "pycharm": {
     "name": "#%% md\n"
    }
   },
   "source": [
    "$$\n",
    "A\\boldsymbol{x}=\\boldsymbol{b}\n",
    "\\\\\n",
    "A^{-1}A\\boldsymbol{x}=A^{-1}\\boldsymbol{b}\\\\\n",
    "E\\boldsymbol{x}=A^{-1}\\boldsymbol{b}\\\\\n",
    "\\boldsymbol{x}=A^{-1}\\boldsymbol{b}\n",
    "$$"
   ]
  },
  {
   "cell_type": "code",
   "execution_count": 2,
   "metadata": {
    "pycharm": {
     "name": "#%%\n"
    }
   },
   "outputs": [
    {
     "name": "stdout",
     "output_type": "stream",
     "text": [
      "[[-2.5  6.5 -0.5]\n",
      " [-4.   9.  -1. ]\n",
      " [-1.5  3.5 -0.5]]\n"
     ]
    },
    {
     "data": {
      "text/plain": [
       "array([[4.],\n",
       "       [6.],\n",
       "       [3.]])"
      ]
     },
     "execution_count": 2,
     "metadata": {},
     "output_type": "execute_result"
    }
   ],
   "source": [
    "import numpy as np\n",
    "\n",
    "A=np.array([[2,-3,4],\n",
    "           [1,-1,1],\n",
    "           [1,2,-7]])\n",
    "b=np.array([2,1,-5]).reshape(-1,1)\n",
    "#Aの逆行列をもとめる\n",
    "print(np.linalg.inv(A))\n",
    "np.dot(np.linalg.inv(A),b)\n"
   ]
  },
  {
   "cell_type": "markdown",
   "metadata": {
    "pycharm": {
     "name": "#%% md\n"
    }
   },
   "source": [
    "ガウスの消去法"
   ]
  },
  {
   "cell_type": "code",
   "execution_count": 6,
   "metadata": {
    "pycharm": {
     "name": "#%%\n"
    }
   },
   "outputs": [
    {
     "name": "stderr",
     "output_type": "stream",
     "text": [
      "/var/folders/hg/8gzz1y9x1s3bjc9t9w4dmxzr0000gn/T/ipykernel_51500/2835734136.py:14: RuntimeWarning: divide by zero encountered in double_scalars\n",
      "  Ab[i+1,:]=Ab[i+1,:]*(1/Ab[i+1, i+1])\n",
      "/var/folders/hg/8gzz1y9x1s3bjc9t9w4dmxzr0000gn/T/ipykernel_51500/2835734136.py:14: RuntimeWarning: invalid value encountered in multiply\n",
      "  Ab[i+1,:]=Ab[i+1,:]*(1/Ab[i+1, i+1])\n"
     ]
    },
    {
     "data": {
      "text/plain": [
       "array([[       nan],\n",
       "       [       nan],\n",
       "       [0.66666667]])"
      ]
     },
     "execution_count": 6,
     "metadata": {},
     "output_type": "execute_result"
    }
   ],
   "source": [
    "import numpy as np\n",
    "\n",
    "def gauss_elimination(A,b):\n",
    "    Ab=np.concatenate((A, b), axis=1)#[A|b]\n",
    "    N=Ab.shape[0]#[A|b]の行方向の大きさ\n",
    "    \n",
    "    #前進消去\n",
    "    for i in range(1, N):\n",
    "        for j in range(i, N):\n",
    "            Ab[j,:] = Ab[j,i]-Ab[i-1,:]*Ab[j,i-1]/Ab[i-1, i-1]\n",
    "            \n",
    "    #後退代入\n",
    "    for i in range(N-2, -2, -1):\n",
    "        Ab[i+1,:]=Ab[i+1,:]*(1/Ab[i+1, i+1])\n",
    "        for j in range(i, -1, -1):\n",
    "            Ab[j,:] = Ab[j,:]-Ab[i+1]*Ab[j, i+1]/Ab[i+1, i+1]\n",
    "            \n",
    "    return Ab[:, N].reshape(-1,1)\n",
    "\n",
    "A=np.array([[2.,-3.,4.],\n",
    "           [1.,-1.,1.],\n",
    "           [1.,2.,-7.]])\n",
    "b=np.array([2.,1.,-5.]).reshape(-1,1)\n",
    "gauss_elimination(A,b)"
   ]
  },
  {
   "cell_type": "code",
   "execution_count": null,
   "metadata": {
    "pycharm": {
     "name": "#%%\n"
    }
   },
   "outputs": [],
   "source": []
  }
 ],
 "metadata": {
  "kernelspec": {
   "display_name": "Python 3 (ipykernel)",
   "language": "python",
   "name": "python3"
  },
  "language_info": {
   "codemirror_mode": {
    "name": "ipython",
    "version": 3
   },
   "file_extension": ".py",
   "mimetype": "text/x-python",
   "name": "python",
   "nbconvert_exporter": "python",
   "pygments_lexer": "ipython3",
   "version": "3.9.12"
  }
 },
 "nbformat": 4,
 "nbformat_minor": 1
}