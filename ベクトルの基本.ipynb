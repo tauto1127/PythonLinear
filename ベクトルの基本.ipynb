{
 "cells": [
  {
   "cell_type": "markdown",
   "id": "743d4f31",
   "metadata": {
    "pycharm": {
     "name": "#%% md\n"
    }
   },
   "source": [
    "コサイン類似度"
   ]
  },
  {
   "cell_type": "code",
   "execution_count": 2,
   "id": "ec48c4cf",
   "metadata": {
    "pycharm": {
     "name": "#%%\n"
    }
   },
   "outputs": [
    {
     "data": {
      "text/plain": "-0.17888543819998318"
     },
     "execution_count": 2,
     "metadata": {},
     "output_type": "execute_result"
    }
   ],
   "source": [
    "import numpy as np\n",
    "def cos_similarity(x,y):\n",
    "    return np.dot(x.T,y)[0,0] / (np.linalg.norm(x) * np.linalg.norm(y))\n",
    "#               ベクトルの内積　　　　　　　　　　　　　　　　　　　　　　　　　　　　　ベクトルの大きさの積\n",
    "\n",
    "y=np.array([4,-3]).reshape(-1,1)\n",
    "x=np.array([2,4]).reshape(-1,1)\n",
    "\n",
    "cos_similarity(x,y)"
   ]
  },
  {
   "cell_type": "markdown",
   "id": "aad35ad7",
   "metadata": {
    "pycharm": {
     "name": "#%% md\n"
    }
   },
   "source": [
    "色の関係を求める"
   ]
  },
  {
   "cell_type": "code",
   "execution_count": 1,
   "id": "36405364",
   "metadata": {
    "pycharm": {
     "name": "#%%\n"
    }
   },
   "outputs": [
    {
     "name": "stdout",
     "output_type": "stream",
     "text": [
      "0.0\n",
      "165.0\n",
      "90.0\n",
      "396.57912199206856\n"
     ]
    }
   ],
   "source": [
    "import numpy as np\n",
    "from scipy.spatial import distance\n",
    "\n",
    "#オレンジ色のベクトル\n",
    "o=np.array([255,165,0]).reshape(-1,1)\n",
    "\n",
    "#赤\n",
    "r=np.array([255,0,0]).reshape(-1,1)\n",
    "\n",
    "#黄色\n",
    "y=np.array([255,255,0]).reshape(-1,1)\n",
    "\n",
    "#青\n",
    "b=np.array([0,0,255])\n",
    "\n",
    "#色ベクトル同士の距離を図ることで比較する\n",
    "#オレンジ同士比較\n",
    "print(distance.euclidean(o,o))\n",
    "#オレンジと赤\n",
    "print(distance.euclidean(o,r))\n",
    "#オレンジと黄色\n",
    "print(distance.euclidean(o,y))\n",
    "#オレンジと青\n",
    "print(distance.euclidean(o,b))"
   ]
  },
  {
   "cell_type": "markdown",
   "source": [
    "コサイン類似度を用いて色を比較すると"
   ],
   "metadata": {
    "collapsed": false,
    "pycharm": {
     "name": "#%% md\n"
    }
   }
  },
  {
   "cell_type": "code",
   "execution_count": 9,
   "outputs": [
    {
     "name": "stdout",
     "output_type": "stream",
     "text": [
      "1.0\n",
      "0.8395701571521511\n",
      "0.9778024140774094\n",
      "0.0\n"
     ]
    }
   ],
   "source": [
    "import numpy as np\n",
    "\n",
    "#オレンジ色のベクトル\n",
    "o=np.array([255,165,0]).reshape(-1,1)\n",
    "\n",
    "#赤\n",
    "r=np.array([255,0,0]).reshape(-1,1)\n",
    "\n",
    "#黄色\n",
    "y=np.array([255,255,0]).reshape(-1,1)\n",
    "\n",
    "#青\n",
    "b=np.array([0,0,255]).reshape(-1,1)\n",
    "\n",
    "def cos_similarity(z,y):\n",
    "    return np.dot(z.T,y)[0,0] / (np.linalg.norm(z) * np.linalg.norm(y))\n",
    "\n",
    "print(cos_similarity(o,o))\n",
    "print(cos_similarity(o,r))\n",
    "print(cos_similarity(o,y))\n",
    "print(cos_similarity(o,b))"
   ],
   "metadata": {
    "collapsed": false,
    "pycharm": {
     "name": "#%%\n"
    }
   }
  },
  {
   "cell_type": "markdown",
   "source": [
    "正規直行基底"
   ],
   "metadata": {
    "collapsed": false,
    "pycharm": {
     "name": "#%% md\n"
    }
   }
  },
  {
   "cell_type": "markdown",
   "source": [
    "ベクトル空間Vの要素u1,u2,...,uNが線型独立であり、Vの任意の要素がこれらのベクトルの線型結合で表現できるとき、集合{u1,u2,...,uN}のことをVの基底（basis）と呼ぶ。また、NをVの次元（dimention）とよび、dimVと表す。\n",
    "\n",
    "$$\n",
    "\\boldsymbol{x}=\\left[\\begin{array}{c}\n",
    "    x_1\\\\\n",
    "    x_2\\\\\n",
    "    x_3\\\\\n",
    "\\end{array}\\right]\n",
    ",\n",
    "\\boldsymbol{y}=\\left[\\begin{array}{c}\n",
    "    y_1\\\\\n",
    "    y_2\\\\\n",
    "    y_3\\\\\n",
    "\\end{array}\\right]\n",
    "は基底が{u_1, u_2, u_3}であれば、\n",
    "\\\\\n",
    "\\boldsymbol{x}=x_1\\boldsymbol{u_1}+x_2\\boldsymbol{u_2}+x_3\\boldsymbol{u_3}\n",
    "\\\\\n",
    "\\boldsymbol{y}=y_1\\boldsymbol{u_1}+y_2\\boldsymbol{u_2}+y_3\\boldsymbol{u_3}\n",
    "と表すことができる。\n",
    "\\\\\n",
    "基底{\\boldsymbol{u_1,u_2,u_3}}が正規直交基底であるとすると\\\\ \\boldsymbol{u_1・u_1} = \\boldsymbol{u_2・u_2} = \\boldsymbol{u_3・u_3}＝１（ノルムが１だから）\n",
    "\\\\\\boldsymbol{u_1・u_2}=\\boldsymbol{u_2・u_3}=0（互いに直交であるから）\n",
    "が成り立つため、\\boldsymbol{x}・\\boldsymbol{y}＝x_1y_1+x_2y_2+x_3y_3\n",
    "$$\n"
   ],
   "metadata": {
    "collapsed": false,
    "pycharm": {
     "name": "#%% md\n"
    }
   }
  },
  {
   "cell_type": "markdown",
   "source": [
    "一般の基底から正規直交基底を作り出す手法は、グラムーシュミットの直交化と呼ばれる。　　　p５７"
   ],
   "metadata": {
    "collapsed": false,
    "pycharm": {
     "name": "#%% md\n"
    }
   }
  },
  {
   "cell_type": "code",
   "execution_count": null,
   "outputs": [],
   "source": [
    "import numpy as np\n",
    "a1 = np.array([1,-1,1]).reshape(-1,1)\n",
    "a2 = np.array([0,2,1]).reshape(-1,1)\n",
    "a3 = np.array([2,1,1]).reshape(-1,1)\n",
    "\n",
    "A=np.concatenate((a1, np.concatenate((a2,a3), axis=1)), axis=1)\n",
    "#配列a1,a2.a3を列として結合し、行列Aとする。\n",
    "A = np.array(A, dtype=np.float64)\n",
    "N = A.shape[1]\n",
    "#A.shapeで行列Aの行、列それぞれのサイズを出力する。列のサイズのためA .shape[1]とする。"
   ],
   "metadata": {
    "collapsed": false,
    "pycharm": {
     "name": "#%%\n",
     "is_executing": true
    }
   }
  },
  {
   "cell_type": "code",
   "execution_count": 9,
   "outputs": [],
   "source": [],
   "metadata": {
    "collapsed": false,
    "pycharm": {
     "name": "#%%\n"
    }
   }
  }
 ],
 "metadata": {
  "kernelspec": {
   "display_name": "Python 3 (ipykernel)",
   "language": "python",
   "name": "python3"
  },
  "language_info": {
   "codemirror_mode": {
    "name": "ipython",
    "version": 3
   },
   "file_extension": ".py",
   "mimetype": "text/x-python",
   "name": "python",
   "nbconvert_exporter": "python",
   "pygments_lexer": "ipython3",
   "version": "3.9.12"
  }
 },
 "nbformat": 4,
 "nbformat_minor": 5
}