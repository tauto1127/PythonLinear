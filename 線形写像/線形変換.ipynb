{
 "cells": [
  {
   "cell_type": "markdown",
   "source": [
    "$$\n",
    "線型写像/線形変換とは\n",
    "二つの集合U,Vにおいて、Uの一つの要素を決めたとき、\\\\\n",
    "それに対するVの要素がただ一つ決まるとき、この対応をUからVへの写像といい、\\boldsymbol{f:U → V}と表現される。\\\\\n",
    "さらに、\\boldsymbol{U, V}がベクトル空間であり、\\boldsymbol{f}が任意の\\boldsymbol{x, y}について次を満たすとき、\\boldsymbol{f}を線型写像という。\\\\\n",
    "・f(\\boldsymbol{x}+\\boldsymbol{y})＝f(\\boldsymbol{x})＋f(\\boldsymbol{y})   　　（５−１）\\\\\n",
    "・f(k\\boldsymbol{x})＝kf(\\boldsymbol{x}) (kは実数)　　　　　　       　　　　      （５−２）\\\\\n",
    "特に、線型写像\\boldsymbol{f:U → V}において、ベクトル空間\\boldsymbol{U, V}が同じものであるとき、fを線形変換という。\\\\\n",
    "\n",
    "\\boldsymbol{R}^n ：すべての成分が実数で構成されるn次ベクトル全体の集合である、\\\\n次元実ベクトル空間を表す。\\\\\n",
    "\\boldsymbol{R}^n → \\boldsymbol{R}^ ：n次元実ベクトル空間からm次元実ベクトル空間への写像\n",
    "$$"
   ],
   "metadata": {
    "collapsed": false,
    "pycharm": {
     "name": "#%% md\n"
    }
   }
  },
  {
   "cell_type": "markdown",
   "source": [
    "$$\n",
    "例１\n",
    "\\boldsymbol{R}^1 → \\boldsymbol{R}^1　　　　一次元ベクトル空間から一次元ベクトル空間\n",
    "f(x) = 3x     線形変換\n",
    "線型写像f(x)は式(5-1), (5-2)を満たす。\n",
    "$$"
   ],
   "metadata": {
    "collapsed": false,
    "pycharm": {
     "name": "#%% md\n"
    }
   }
  },
  {
   "cell_type": "markdown",
   "source": [
    "例２\n",
    "$$\n",
    "f:\\boldsymbol{R}^3 → \\boldsymbol{R}^3が\\\\\n",
    "\\boldsymbol{x}＝\\left[\\begin{array}{c}\n",
    "x_1 \\\\\n",
    "x_2 \\\\\n",
    "x_3 \\\\\n",
    "\\end{array}\\right]，\n",
    "f(\\boldsymbol{x})＝\\left[\\begin{array}{c}\n",
    "2x_1ー3x_2ー4x_3\\\\\n",
    "x_1ーx_2＋x_3\\\\\n",
    "x_1＋2x_2ー7x_3\\\\\n",
    "\\end{array}\\right] \\\\\n",
    "と定められる時を考える。\\\\\n",
    "この線形変換は、\\\\\n",
    "f(\\boldsymbol{x}＝A\\boldsymbol{x}，  \\boldsymbol{x}＝\\left[\\begin{array}{c}\n",
    "x_1\\\\\n",
    "x_2\\\\\n",
    "x_3\\\\\n",
    "\\end{array}\\right],　　　A＝\\left[\\begin{array}{ccc}\n",
    "2 & −３ & −４ \\\\\n",
    "1 & −１ &  1  \\\\\n",
    "1 & 2  & -7 \\\\\n",
    "\\end{array}\\right]\n",
    "$$"
   ],
   "metadata": {
    "collapsed": false,
    "pycharm": {
     "name": "#%% md\n"
    }
   }
  },
  {
   "cell_type": "markdown",
   "source": [
    "この時、vectorxが線形変換によって何に変換されるかを求めるプログラム"
   ],
   "metadata": {
    "collapsed": false,
    "pycharm": {
     "name": "#%% md\n"
    }
   }
  },
  {
   "cell_type": "code",
   "execution_count": 1,
   "outputs": [
    {
     "data": {
      "text/plain": "array([[-16.],\n       [  2.],\n       [-16.]])"
     },
     "execution_count": 1,
     "metadata": {},
     "output_type": "execute_result"
    }
   ],
   "source": [
    "import numpy as np\n",
    "\n",
    "A = np.array([\n",
    "    [2.,-3.,-4.],\n",
    "    [1.,-1.,1.],\n",
    "    [1.,2.,-7.],\n",
    "])\n",
    "x = np.array([1.,2.,3.]).reshape(-1,1)\n",
    "np.dot(A,x)#Ax"
   ],
   "metadata": {
    "collapsed": false,
    "pycharm": {
     "name": "#%%\n"
    }
   }
  },
  {
   "cell_type": "markdown",
   "source": [
    "つまりxが表現行列Aである線型写像によってOut1に変換されることが確かめられた。"
   ],
   "metadata": {
    "collapsed": false,
    "pycharm": {
     "name": "#%% md\n"
    }
   }
  }
 ],
 "metadata": {
  "kernelspec": {
   "display_name": "Python 3",
   "language": "python",
   "name": "python3"
  },
  "language_info": {
   "codemirror_mode": {
    "name": "ipython",
    "version": 2
   },
   "file_extension": ".py",
   "mimetype": "text/x-python",
   "name": "python",
   "nbconvert_exporter": "python",
   "pygments_lexer": "ipython2",
   "version": "2.7.6"
  }
 },
 "nbformat": 4,
 "nbformat_minor": 0
}