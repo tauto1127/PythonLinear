{
 "cells": [
  {
   "cell_type": "raw",
   "metadata": {
    "pycharm": {
     "name": ""
    }
   },
   "source": [
    "逆行列をもちいて連立方程式をとく"
   ]
  },
  {
   "cell_type": "markdown",
   "metadata": {
    "pycharm": {
     "name": "#%% md\n"
    }
   },
   "source": [
    "$$\n",
    "A\\boldsymbol{x}=\\boldsymbol{b}\n",
    "\\\\\n",
    "A^{-1}A\\boldsymbol{x}=A^{-1}\\boldsymbol{b}\\\\\n",
    "E\\boldsymbol{x}=A^{-1}\\boldsymbol{b}\\\\\n",
    "\\boldsymbol{x}=A^{-1}\\boldsymbol{b}\n",
    "$$"
   ]
  },
  {
   "cell_type": "code",
   "execution_count": 1,
   "metadata": {
    "pycharm": {
     "name": "#%%\n"
    }
   },
   "outputs": [
    {
     "ename": "NameError",
     "evalue": "name 'ガウスの消去法' is not defined",
     "output_type": "error",
     "traceback": [
      "\u001B[1;31m---------------------------------------------------------------------------\u001B[0m",
      "\u001B[1;31mNameError\u001B[0m                                 Traceback (most recent call last)",
      "Input \u001B[1;32mIn [1]\u001B[0m, in \u001B[0;36m<cell line: 1>\u001B[1;34m()\u001B[0m\n\u001B[1;32m----> 1\u001B[0m \u001B[43mガウスの消去法\u001B[49m\n",
      "\u001B[1;31mNameError\u001B[0m: name 'ガウスの消去法' is not defined"
     ]
    }
   ],
   "source": [
    "import numpy as np\n",
    "\n",
    "A=np.array([[2,-3,4],\n",
    "           [1,-1,1],\n",
    "           [1,2,-7]])\n",
    "b=np.array([2,1,-5]).reshape(-1,1)\n",
    "#Aの逆行列をもとめる\n",
    "print(np.linalg.inv(A))\n",
    "np.dot(np.linalg.inv(A),b)\n"
   ]
  },
  {
   "cell_type": "markdown",
   "metadata": {
    "pycharm": {
     "name": "#%% md\n"
    }
   },
   "source": [
    "ガウスの消去法"
   ]
  },
  {
   "cell_type": "code",
   "execution_count": 2,
   "metadata": {
    "pycharm": {
     "name": "#%%\n"
    }
   },
   "outputs": [
    {
     "data": {
      "text/plain": [
       "array([[4.],\n",
       "       [6.],\n",
       "       [3.]])"
      ]
     },
     "execution_count": 2,
     "metadata": {},
     "output_type": "execute_result"
    }
   ],
   "source": [
    "import numpy as np\n",
    "\n",
    "def gauss_elimination(A,b):\n",
    "    Ab=np.concatenate((A, b), axis=1)#[A|b]\n",
    "    N=Ab.shape[0]#[A|b]の行方向の大きさ\n",
    "    \n",
    "    #前進消去\n",
    "    for i in range(1, N):#1 < i < N\n",
    "        for j in range(i, N):\n",
    "            Ab[j,:] = Ab[j,:]-Ab[i-1,:]*Ab[j,i-1]/Ab[i-1, i-1]#[j,:]はj行目を取り出す\n",
    "            \n",
    "    #後退代入\n",
    "    for i in range(N-2, -2, -1):\n",
    "        Ab[i+1,:]=Ab[i+1,:]*(1/Ab[i+1, i+1])\n",
    "        for j in range(i, -1, -1):\n",
    "            Ab[j,:] = Ab[j,:]-Ab[i+1]*Ab[j, i+1]/Ab[i+1, i+1]\n",
    "            \n",
    "    return Ab[:, N].reshape(-1,1)\n",
    "\n",
    "A=np.array([[2.,-3.,4.],\n",
    "           [1.,-1.,1.],\n",
    "           [1.,2.,-7.]])\n",
    "b=np.array([2.,1.,-5.]).reshape(-1,1)\n",
    "gauss_elimination(A,b)"
   ]
  },
  {
   "cell_type": "code",
   "execution_count": null,
   "outputs": [],
   "source": [
    "rankをもちいて連立方程式の解の個数を判断する"
   ],
   "metadata": {
    "collapsed": false,
    "pycharm": {
     "name": "#%%\n"
    }
   }
  },
  {
   "cell_type": "code",
   "execution_count": 5,
   "metadata": {
    "pycharm": {
     "name": "#%%\n"
    }
   },
   "outputs": [
    {
     "name": "stdout",
     "output_type": "stream",
     "text": [
      "解が一意に定まる\n"
     ]
    }
   ],
   "source": [
    "import numpy as np\n",
    "def sol_dec(a,b):\n",
    "    #行列Aの大きさ（列）を求める\n",
    "    N=A.shape[1]\n",
    "    \n",
    "    #行列Aの階数を求める\n",
    "    A_rank = np.linalg.matrix_rank(A)\n",
    "    \n",
    "    #行列Aとベクトルbを列方向で結合して、階数を求める\n",
    "    Ab = np.concatenate((A, b), axis=1)\n",
    "    Ab_rank = np.linalg.matrix_rank(Ab)\n",
    "    \n",
    "    if Ab_rank==A_rank:\n",
    "        if A_rank == N:\n",
    "            print(\"解が一意に定まる\")\n",
    "        else:\n",
    "            print(\"不定\")\n",
    "    else:\n",
    "        print(\"不能\")\n",
    "        \n",
    "A=np.array([[2.,-3.,4.],\n",
    "          [1.,-1.,1.],\n",
    "          [1.,2.,-7.]])\n",
    "b= np.array([2.,1.,-5]).reshape(-1,1)\n",
    "sol_dec(A,b)"
   ]
  },
  {
   "cell_type": "markdown",
   "metadata": {
    "pycharm": {
     "name": "#%% md\n"
    }
   },
   "source": [
    "### 2 * 2行列の逆行列をもとめる\n",
    "$$\n",
    "行列A=\\left[\\begin{array}{cc}\n",
    "    a_{11} & a_{12}\\\\\n",
    "    a_{21} & a_{22}\\\\\n",
    "\\end{array}\\right]\n",
    "の逆行列X=\n",
    "\\left[\\begin{array}{cc}\n",
    "    x_{11} & x_{12}\\\\\n",
    "    x_{21} & x_{22}\\\\\n",
    "\\end{array}\\right]\n",
    "を求める。\\\\逆行列の定義から、AX=Eを解くことになる。\n",
    "\\\\\n",
    "AX=Eは\\\\\n",
    "\\left[\\begin{array}{cc}\n",
    "    a_{11} & a_{12}\\\\\n",
    "    a_{21} & a_{22}\\\\\n",
    "\\end{array}\\right]\n",
    "\\left[\\begin{array}{cc}\n",
    "    x_{11} & x_{12}\\\\\n",
    "    x_{21} & x_{22}\\\\\n",
    "\\end{array}\\right]\n",
    "=\n",
    "\\left[\\begin{array}{cc}\n",
    "    1 & 0\\\\\n",
    "    0 & 1\\\\\n",
    "\\end{array}\\right]\\\\\n",
    "となり、左辺を展開すると、\n",
    "\\left[\\begin{array}{cc}\n",
    "    a_{11} & a_{12}\\\\\n",
    "    a_{21} & a_{22}\\\\\n",
    "\\end{array}\\right]\n",
    "\\left[\\begin{array}{cc}\n",
    "    x_{11} & x_{12}\\\\\n",
    "    x_{21} & x_{22}\\\\\n",
    "\\end{array}\\right]\n",
    "=\n",
    "\\left[\\begin{array}{cc}\n",
    "    a_{11}x_{11}+a_{12}x_{21} & a_{11}x_{12}+a_{12}x_{22}\\\\\n",
    "    a_{21}x_{11}+a_{22}x_{21} & a_{21}x_{12}+a_{22}x_{22}\\\\\n",
    "\\end{array}\\right]\\\\\n",
    "よって\\\\\n",
    "\\left[\\begin{array}{cc}\n",
    "    a_{11}x_{11}+a_{12}x_{21} & a_{11}x_{12}+a_{12}x_{22}\\\\\n",
    "    a_{21}x_{11}+a_{22}x_{21} & a_{21}x_{12}+a_{22}x_{22}\\\\\n",
    "\\end{array}\\right]\n",
    "=\n",
    "\\left[\\begin{array}{cc}\n",
    "    1 & 0\\\\\n",
    "    0 & 1\\\\\n",
    "\\end{array}\\right]\\\\\n",
    "となり、連立方程式として書くと、\\\\\n",
    "\\left\\{\n",
    "\\begin{array}{l}\n",
    "a_{11}x_{11}+a_{12}x_{21} = 1 & ...①\\\\\n",
    "a_{11}x_{12}+a_{12}x_{22} = 0 & ...②\\\\\n",
    "a_{21}x_{11}+a_{22}x_{21} = 0 & ...③\\\\\n",
    "a_{21}x_{12}+a_{22}x_{22} = 1 & ...④\\\\\n",
    "\\end{array}\n",
    "\\right.\\\\\n",
    "を解くことに鳴る\\\\\n",
    "式①×a_{22}－式③×a_{12}を計算すると、下記のように計算ができます\\\\\n",
    "    a_{11}a_{22}x_{11}+a_{12}a_{22}x_{21}=a_{22}\\\\\n",
    "\\frac{a_{12}a_{21}x_{11}+a_{12}a_{22}x_{21}=0}{(a_{11}a_{22}－a_{12}a_{21})x_{11}=a_{22}}\n",
    "x_{11}=\\frac{a_{22}}{a_{11}a_{22}－a_{12}a_{21}}(a_{11}a_{22}－a_{12}a_{21}≠0のとき)\\\\\n",
    "他のx_{12}, x_{21}, x_{22}も同様に、導出して\\\\\n",
    "行列Aの逆行列はX=\\frac{1}{a_{11}a_{22}－a_{12}a_{21}}\\left[\\begin{array}{cc}\n",
    "    a_{22} & －a_{12}\\\\\n",
    "    －a_{21} & a_{11}\\\\\n",
    "\\end{array}\\right]\n",
    "$$"
   ]
  },
  {
   "cell_type": "code",
   "execution_count": null,
   "metadata": {
    "pycharm": {
     "name": "#%%\n"
    }
   },
   "outputs": [],
   "source": []
  }
 ],
 "metadata": {
  "kernelspec": {
   "display_name": "Python 3 (ipykernel)",
   "language": "python",
   "name": "python3"
  },
  "language_info": {
   "codemirror_mode": {
    "name": "ipython",
    "version": 3
   },
   "file_extension": ".py",
   "mimetype": "text/x-python",
   "name": "python",
   "nbconvert_exporter": "python",
   "pygments_lexer": "ipython3",
   "version": "3.9.12"
  }
 },
 "nbformat": 4,
 "nbformat_minor": 1
}