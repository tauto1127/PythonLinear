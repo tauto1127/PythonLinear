{
 "cells": [
  {
   "cell_type": "markdown",
   "source": [
    "$$\n",
    "線型写像/線形変換とは\n",
    "二つの集合U,Vにおいて、Uの一つの要素を決めたとき、\\\\\n",
    "それに対するVの要素がただ一つ決まるとき、この対応をUからVへの写像といい、\\boldsymbol{f:U → V}と表現される。\\\\\n",
    "さらに、\\boldsymbol{U, V}がベクトル空間であり、\\boldsymbol{f}が任意の\\boldsymbol{x, y}について次を満たすとき、\\boldsymbol{f}を線型写像という。\\\\\n",
    "・f(\\boldsymbol{x}+\\boldsymbol{y})＝f(\\boldsymbol{x})＋f(\\boldsymbol{y})   　　（５−１）\\\\\n",
    "・f(k\\boldsymbol{x})＝kf(\\boldsymbol{x}) (kは実数)　　　　　　       　　　　      （５−２）\\\\\n",
    "特に、線型写像\\boldsymbol{f:U → V}において、ベクトル空間\\boldsymbol{U, V}が同じものであるとき、fを線形変換という。\\\\\n",
    "\n",
    "\\boldsymbol{R}^n ：すべての成分が実数で構成されるn次ベクトル全体の集合である、\\\\n次元実ベクトル空間を表す。\\\\\n",
    "\\boldsymbol{R}^n → \\boldsymbol{R}^ ：n次元実ベクトル空間からm次元実ベクトル空間への写像\n",
    "$$"
   ],
   "metadata": {
    "collapsed": false,
    "pycharm": {
     "name": "#%% md\n"
    }
   }
  },
  {
   "cell_type": "markdown",
   "source": [
    "$$\n",
    "例１\n",
    "\\boldsymbol{R}^1 → \\boldsymbol{R}^1　　　　一次元ベクトル空間から一次元ベクトル空間\n",
    "f(x) = 3x     線形変換\n",
    "線型写像f(x)は式(5-1), (5-2)を満たす。\n",
    "$$"
   ],
   "metadata": {
    "collapsed": false,
    "pycharm": {
     "name": "#%% md\n"
    }
   }
  },
  {
   "cell_type": "markdown",
   "source": [
    "例２\n",
    "$$\n",
    "f:\\boldsymbol{R}^3 → \\boldsymbol{R}^3が\\\\\n",
    "\\boldsymbol{x}＝\\left[\\begin{array}{c}\n",
    "x_1 \\\\\n",
    "x_2 \\\\\n",
    "x_3 \\\\\n",
    "\\end{array}\\right]，\n",
    "f(\\boldsymbol{x})＝\\left[\\begin{array}{c}\n",
    "2x_1ー3x_2ー4x_3\\\\\n",
    "x_1ーx_2＋x_3\\\\\n",
    "x_1＋2x_2ー7x_3\\\\\n",
    "\\end{array}\\right] \\\\\n",
    "と定められる時を考える。\\\\\n",
    "この線形変換は、\\\\\n",
    "f(\\boldsymbol{x}＝A\\boldsymbol{x}，  \\boldsymbol{x}＝\\left[\\begin{array}{c}\n",
    "x_1\\\\\n",
    "x_2\\\\\n",
    "x_3\\\\\n",
    "\\end{array}\\right],　　　A＝\\left[\\begin{array}{ccc}\n",
    "2 & −３ & −４ \\\\\n",
    "1 & −１ &  1  \\\\\n",
    "1 & 2  & -7 \\\\\n",
    "\\end{array}\\right]\n",
    "$$"
   ],
   "metadata": {
    "collapsed": false,
    "pycharm": {
     "name": "#%% md\n"
    }
   }
  },
  {
   "cell_type": "markdown",
   "source": [
    "この時、vectorxが線形変換によって何に変換されるかを求めるプログラム"
   ],
   "metadata": {
    "collapsed": false,
    "pycharm": {
     "name": "#%% md\n"
    }
   }
  },
  {
   "cell_type": "code",
   "execution_count": 1,
   "outputs": [
    {
     "data": {
      "text/plain": "array([[-16.],\n       [  2.],\n       [-16.]])"
     },
     "execution_count": 1,
     "metadata": {},
     "output_type": "execute_result"
    }
   ],
   "source": [
    "import numpy as np\n",
    "\n",
    "A = np.array([\n",
    "    [2.,-3.,-4.],\n",
    "    [1.,-1.,1.],\n",
    "    [1.,2.,-7.],\n",
    "])\n",
    "x = np.array([1.,2.,3.]).reshape(-1,1)\n",
    "np.dot(A,x)#Ax"
   ],
   "metadata": {
    "collapsed": false,
    "pycharm": {
     "name": "#%%\n"
    }
   }
  },
  {
   "cell_type": "markdown",
   "source": [
    "つまりxが表現行列Aである線型写像によってOut1に変換されることが確かめられた。"
   ],
   "metadata": {
    "collapsed": false,
    "pycharm": {
     "name": "#%% md\n"
    }
   }
  },
  {
   "cell_type": "markdown",
   "source": [
    "$$\n",
    "合成写像\\\\\n",
    "2次元ベクトル空間R^2からR^2への線形変換fと、別のR^2からR^2への線形変換gの合成\\\\\n",
    "線形変換fの表現行列はA=\\left[\\begin{array}{cc}\n",
    "a_{11} & a_{12}\\\\\n",
    "a_{21} & a_{22}\\\\\n",
    "\\end{array}\\right]\n",
    "であり、gの表現行列はB=\\left[\\begin{array}{cc}\n",
    "b_{11} & b_{12}\\\\\n",
    "b_{21} & b_{22}\\\\\n",
    "\\end{array}\\right]\\\\\n",
    "f:R^2 → R^2 \\\\\n",
    "\\boldsymbol{x} → A\\boldsymbol{x}\\\\\n",
    "g:R^2 → R^2\\\\\n",
    "\\boldsymbol{x} → B\\boldsymbol{x}\\\\\n",
    "fとgの合成写像：g○fと表す\\\\\n",
    "x > A\\boldsymbol{x} > BA\\boldsymbol{x}\\\\\n",
    "g○fの表現行列はBA\n",
    "$$"
   ],
   "metadata": {
    "collapsed": false,
    "pycharm": {
     "name": "#%% md\n"
    }
   }
  },
  {
   "cell_type": "markdown",
   "source": [
    "基本行列の積のイメージ?"
   ],
   "metadata": {
    "collapsed": false,
    "pycharm": {
     "name": "#%% md\n"
    }
   }
  },
  {
   "cell_type": "markdown",
   "source": [
    "$$\n",
    "f:\\boldsymbol{R}^2 → \\boldsymbol{R}^3とg:\\boldsymbol{R}^3 → \\boldsymbol{R}^2の合成\\\\\n",
    "線型写像fの表現行列はA=\\left[\\begin{array}{cc}\n",
    "1 & -3\\\\\n",
    "2 & -2\\\\\n",
    "3 & 1 \\\\\n",
    "\\end{array}\\right]\n",
    "であり、線型写像gの表現行列はB=\\left[\\begin{array}{ccc}\n",
    "2 & 1 & 3\\\\\n",
    "3 & 1 & 2\\\\\n",
    "\\end{array}\\right]\n",
    "であるとする。\\\\\n",
    "その時の合成写像g○fの表現行列はBA、合成写像f○gの表現行列はABとなりますが、\\\\それをPythonで計算すると・・・\\\\\n",
    "$$"
   ],
   "metadata": {
    "collapsed": false,
    "pycharm": {
     "name": "#%% md\n"
    }
   }
  },
  {
   "cell_type": "code",
   "execution_count": 1,
   "outputs": [
    {
     "name": "stdout",
     "output_type": "stream",
     "text": [
      "[[13. -5.]\n",
      " [11. -9.]]\n",
      "g○f\n",
      "[[-7. -2. -3.]\n",
      " [-2.  0.  2.]\n",
      " [ 9.  4. 11.]]\n",
      "f○g\n"
     ]
    }
   ],
   "source": [
    "import numpy as np\n",
    "A = np.array([\n",
    "    [1., -3],\n",
    "    [2., -2],\n",
    "    [3., 1.],\n",
    "])\n",
    "B = np.array([\n",
    "    [2., 1., 3.,],\n",
    "    [3., 1., 2.],\n",
    "])\n",
    "\n",
    "print(np.dot(B,A) ) # BA\n",
    "print(\"g○f\")\n",
    "print(np.dot(A,B) ) # AB\n",
    "print(\"f○g\")"
   ],
   "metadata": {
    "collapsed": false,
    "pycharm": {
     "name": "#%%\n"
    }
   }
  },
  {
   "cell_type": "markdown",
   "source": [
    "画像データからの印象語抽出システムを線型写像で実現\n",
    "Media-lexicon Transfor-mation Operator\n"
   ],
   "metadata": {
    "collapsed": false,
    "pycharm": {
     "name": "#%% md\n"
    }
   }
  },
  {
   "cell_type": "code",
   "execution_count": 17,
   "outputs": [
    {
     "data": {
      "text/plain": "array([[ 1.76619244],\n       [-0.97642771],\n       [ 0.85662455],\n       [-0.66117907],\n       [ 1.73992859],\n       [-1.29904042],\n       [ 0.66185945]])"
     },
     "execution_count": 17,
     "metadata": {},
     "output_type": "execute_result"
    }
   ],
   "source": [
    "from PIL import Image\n",
    "import numpy as np\n",
    "import os\n",
    "\n",
    "def ext_mean_rgb(filepath):#RGBの平均値を計算\n",
    "    image = np.array(Image.open(filepath).convert('RGB')).reshape(-1,3)#画像のRGBデータを行列に\n",
    "    return np.array([np.mean(image[:,0]),np.mean(image[:,1]),np.mean(image[:,2])])#それぞれのRGB値の平均値\n",
    "\n",
    "from scipy.spatial import distance\n",
    "\n",
    "def gen_color_vec(rgbvec):#パレットのベクトルからの距離を求める\n",
    "    colorvec = np.array([])#空の配列\n",
    "    palette = np.array(\n",
    "        [\n",
    "            [255,0,0], #赤\n",
    "            [255,102,0],  #橙\n",
    "            [255,255,0],  #黄\n",
    "            [0,128,0],  #緑\n",
    "            [0,0,255],  #青\n",
    "            [128,0,128],  #紫\n",
    "            [255,0,255],  #ピンク\n",
    "            [255,255,255],  #白\n",
    "            [128,128,128],  #グレー\n",
    "            [0,0,0] #黒\n",
    "        ]\n",
    "    )\n",
    "    for col in palette:#                    colorvecにcolとrgbvecの距離を追加\n",
    "        colorvec=np.append(colorvec,distance.euclidean(col,rgbvec))#パレットのそれぞれの色とどれくらい近いか\n",
    "    colorvec=1-colorvec/np.linalg.norm(colorvec,np.inf)# 1  -  ベクトル / ベクトルノルム\n",
    "        # 近ければ近いほど大きくするため       ノルムで正規化\n",
    "    return colorvec.reshape(-1,1)\n",
    "\n",
    "filepath = os.getcwd() + \"/pic/img_1.png\"\n",
    "\n",
    "x = gen_color_vec(ext_mean_rgb(filepath))\n",
    "\n",
    "#表現行列を用意する。本来はカラーイメージスケールなどの研究結果を適用すべきだが、簡単にするため筆者が印象を表す言葉を考えてくれた。\n",
    "#  　　　　   赤 橙黄緑青 紫ピンクしろ灰黒\n",
    "A=np.array([[0.5,1,1,1,0,0,1,1,0,-1],           #明るい\n",
    "            [0,-1,-1,0,0.5,0,-1,-1,0.5,1],      #暗い\n",
    "            [0,0.5,0.5,0,0,0,1,0,0,0],          #可愛い\n",
    "            [0,-1,-1,0,1,0,-1,0,1,1],           #悲しい\n",
    "            [1,1,0.5,-1,-1,0.5,0,0,0,0],        #情熱\n",
    "            [-1,-1,-1,0.5,1,0,0,0.5,0.5,0.5],   #冷静\n",
    "            [0,0.5,0.5,1,0,0,0,0,0,0]])         #自然\n",
    "#                表現行列\n",
    "np.dot(A,x)"
   ],
   "metadata": {
    "collapsed": false,
    "pycharm": {
     "name": "#%%\n"
    }
   }
  },
  {
   "cell_type": "code",
   "execution_count": 5,
   "outputs": [],
   "source": [],
   "metadata": {
    "collapsed": false,
    "pycharm": {
     "name": "#%%\n"
    }
   }
  }
 ],
 "metadata": {
  "kernelspec": {
   "display_name": "Python 3",
   "language": "python",
   "name": "python3"
  },
  "language_info": {
   "codemirror_mode": {
    "name": "ipython",
    "version": 2
   },
   "file_extension": ".py",
   "mimetype": "text/x-python",
   "name": "python",
   "nbconvert_exporter": "python",
   "pygments_lexer": "ipython2",
   "version": "2.7.6"
  }
 },
 "nbformat": 4,
 "nbformat_minor": 0
}